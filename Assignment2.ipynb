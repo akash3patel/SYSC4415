{
  "nbformat": 4,
  "nbformat_minor": 0,
  "metadata": {
    "colab": {
      "provenance": [],
      "authorship_tag": "ABX9TyNft0BTQDALUoHaN+hS1JI2",
      "include_colab_link": true
    },
    "kernelspec": {
      "name": "python3",
      "display_name": "Python 3"
    },
    "language_info": {
      "name": "python"
    }
  },
  "cells": [
    {
      "cell_type": "markdown",
      "metadata": {
        "id": "view-in-github",
        "colab_type": "text"
      },
      "source": [
        "<a href=\"https://colab.research.google.com/github/akash3patel/SYSC4415/blob/main/Assignment2.ipynb\" target=\"_parent\"><img src=\"https://colab.research.google.com/assets/colab-badge.svg\" alt=\"Open In Colab\"/></a>"
      ]
    },
    {
      "cell_type": "markdown",
      "source": [
        "# SYSC4415 Assignment 2 – Fire Hydrant Detection 🚒"
      ],
      "metadata": {
        "id": "8oJOR0w-jVsx"
      }
    },
    {
      "cell_type": "markdown",
      "source": [
        "\"\"\"\n",
        "Special thanks to Nader Ibrahim for assembling the dataset. For more details, please refer to his paper: Computer Vision Fire Hydrant Obstruction Detection System.\n",
        "\n",
        "Questions? Please use the Brightspace Discussion Board.\n",
        "\n",
        "Deadline: See Brightspace end date.\n",
        "\"\"\""
      ],
      "metadata": {
        "id": "EVN5i-_rjZDu"
      }
    },
    {
      "cell_type": "markdown",
      "source": [
        "## Instructions\n",
        "DO NOT wait until the last minute to complete this assignment. It may take up to 10 hours if you are unfamiliar with Python and Machine Learning libraries. Your full notebook should not take more than 100 minutes to run on a T4 GPU (my full notebook runs under 35 minutes on a T4 GPU).\n",
        "\n",
        "Follow all steps carefully. Your solutions must be self-contained in this notebook. No other supplementary materials or files will be accepted. As soon as I open your notebook, I will click \"Runtime\" → \"Run all\". Ensure your notebook runs without errors and displays results clearly.\n",
        "\n",
        "Use markdown cells with the ✅ emoji for your text answers and ❓ emoji for questions.\n",
        "\n",
        "Provide sufficient comments in your code to describe its functionality. Do not remove any necessary libraries as this will cause errors.\n",
        "\n",
        "Download the dataset from Brightspace and store it in your Google Drive under \"My Drive\" (not in any subfolder). Check the file location via right-click → File Information → Details → Location.\n",
        "\n",
        "Test your code on CPU first. For model training, switch to GPU: Runtime → Change Runtime Type → Hardware accelerator → T4 GPU.\n",
        "\n",
        "Submit your notebook as a `.ipynb` file named: `SYSC4415W25_A2_FIRSTNAME_LASTNAME_StudentID.ipynb` on Brightspace. No other submission methods will be accepted.\n"
      ],
      "metadata": {
        "id": "LOb5DLQSjeHr"
      }
    },
    {
      "cell_type": "markdown",
      "source": [
        "## Dataset\n",
        "Provided on Brightspace. Upload it to Google Drive under \"My Drive\".\n",
        "\n",
        "Dataset details:\n",
        "- Training Images: 2,272  \n",
        "- Validation Images: 563  \n",
        "- Labels: 0 = No Fire Hydrant, 1 = Fire Hydrant  \n",
        "- Imbalanced dataset (most images do not contain a hydrant)."
      ],
      "metadata": {
        "id": "Cwn5mt3sjeDd"
      }
    },
    {
      "cell_type": "markdown",
      "source": [
        "## Steps\n",
        "\n",
        "### 1) Initial Setup\n",
        "Import necessary libraries\n"
      ],
      "metadata": {
        "id": "WBvkZqHoj-I1"
      }
    },
    {
      "cell_type": "code",
      "source": [
        "## Enter your code here..\n",
        "\n",
        "# Import necessary libraries\n",
        "\n",
        "import pandas as pd\n",
        "import os"
      ],
      "metadata": {
        "id": "2XFcIUZp7vAp"
      },
      "execution_count": null,
      "outputs": []
    },
    {
      "cell_type": "markdown",
      "source": [
        "Mount Google Drive and unzip the dataset."
      ],
      "metadata": {
        "id": "O7OJ_TSI70uf"
      }
    },
    {
      "cell_type": "code",
      "source": [
        "## Enter your code here..\n",
        "\n",
        "# Mount Google Drive\n",
        "from google.colab import drive\n",
        "drive.mount('/content/drive')\n",
        "\n",
        "# Unzip the dataset\n",
        "!unzip /content/drive/MyDrive/FireHydrantDataset.zip -d /content/\n",
        "\n",
        "# Dataset path\n",
        "data_path = \"/content/FireHydrantDataset\"\n"
      ],
      "metadata": {
        "id": "EggsTjratyoA"
      },
      "execution_count": null,
      "outputs": []
    },
    {
      "cell_type": "markdown",
      "source": [
        "----"
      ],
      "metadata": {
        "id": "HgQ8yflHuSpX"
      }
    },
    {
      "cell_type": "markdown",
      "source": [
        "### 2) Data Exploration\n",
        "Load dataset into a pandas DataFrame. Display sample images and also plot class distribution.\n",
        "[Requires 5 sample images and one plot of class distribution]\n",
        "\n",
        "❓ Why is it important to check for class imbalance before training? How might this affect our model?  \n",
        "✅ Your answer here\n",
        "..\n"
      ],
      "metadata": {
        "id": "xKsG1IKXj-F_"
      }
    },
    {
      "cell_type": "code",
      "source": [
        "## Enter your code here.."
      ],
      "metadata": {
        "id": "KYsEV2cjt9AV"
      },
      "execution_count": null,
      "outputs": []
    },
    {
      "cell_type": "markdown",
      "source": [
        "---"
      ],
      "metadata": {
        "id": "Uvr_OjehuWym"
      }
    },
    {
      "cell_type": "markdown",
      "source": [
        "### 3) Preprocessing\n",
        "- Resize images to 64x64.\n",
        "- Convert to grayscale.\n",
        "- Split into 80% training and 20% testing datasets.\n",
        "- Apply necessary transformations.\n",
        "\n",
        "❓ Would one-hot encoding be necessary for binary classification? Why or why not?  \n",
        "✅ Your answer here.."
      ],
      "metadata": {
        "id": "k57-IuKMuAsj"
      }
    },
    {
      "cell_type": "code",
      "source": [
        "## Enter your code here.."
      ],
      "metadata": {
        "id": "ErqFZKq9t-5e"
      },
      "execution_count": null,
      "outputs": []
    },
    {
      "cell_type": "markdown",
      "source": [
        "---"
      ],
      "metadata": {
        "id": "OL2rFzw-u9V6"
      }
    },
    {
      "cell_type": "markdown",
      "source": [
        "### 4) Baseline Model\n",
        "Create a CNN with:\n",
        "- Two convolutional layers\n",
        "- Padding = 1\n",
        "- Kernel size = 3\n",
        "- One max pooling layer\n",
        "\n",
        "❓ List three ways to improve the baseline model.  \n",
        "✅ Your answer here.."
      ],
      "metadata": {
        "id": "vnzBOi2SuIp8"
      }
    },
    {
      "cell_type": "code",
      "source": [
        "## Enter your code here.."
      ],
      "metadata": {
        "id": "cd06Awp5vR0H"
      },
      "execution_count": null,
      "outputs": []
    },
    {
      "cell_type": "markdown",
      "source": [
        "---"
      ],
      "metadata": {
        "id": "DzvEccoXvNBB"
      }
    },
    {
      "cell_type": "markdown",
      "source": [
        "### 5) Training and Evaluation\n",
        "Train for 10 epochs and evaluate using Precision, Recall, and F1-Score.\n",
        "\n",
        "❓ Explain why your chosen metric is most appropriate.  \n",
        "✅ Your answer here\n",
        "\n",
        "\n",
        "Display the confusion matrix.\n",
        "\n",
        "❓ Explain the confusion matrix to a non-technical audience and relate it to your chosen metric.  \n",
        "✅ Your answer here"
      ],
      "metadata": {
        "id": "bIYaYPvAj-Cw"
      }
    },
    {
      "cell_type": "code",
      "source": [
        "## Enter your code here.."
      ],
      "metadata": {
        "id": "_MDIRPLkvX3z"
      },
      "execution_count": null,
      "outputs": []
    },
    {
      "cell_type": "markdown",
      "source": [
        "---"
      ],
      "metadata": {
        "id": "Sg2Z5VAOvZ0T"
      }
    },
    {
      "cell_type": "markdown",
      "source": [
        "\n",
        "### 6) Model Improvements\n",
        "Apply and evaluate three improvements:\n",
        "- 🥇 ImprovedCNNOne (e.g., dropout, batch normalization)\n",
        "- 🥈 ImprovedCNNTwo (e.g., more layers, different activations)\n",
        "- 🥉 ImprovedCNNThree (e.g., data augmentation)\n",
        "\n",
        "❓ Which model would you deploy? Why?  \n",
        "✅ Your answer here"
      ],
      "metadata": {
        "id": "uNSOIyZ6j9_a"
      }
    },
    {
      "cell_type": "code",
      "source": [
        "## Enter your code here.."
      ],
      "metadata": {
        "id": "Vduzdusiwtha"
      },
      "execution_count": 1,
      "outputs": []
    },
    {
      "cell_type": "markdown",
      "source": [
        "---"
      ],
      "metadata": {
        "id": "MRzoK-N66b6F"
      }
    },
    {
      "cell_type": "markdown",
      "source": [
        "### 7) Personal Inference Test\n",
        "Take or download **5 images** of fire hydrants (either personally clicked or from Google).\n",
        "\n",
        "- Ensure images are clear and visible.\n",
        "- Preprocess these images as done with the training data (grayscale, resize to 64x64).\n",
        "- Use your best-performing model to predict whether each image contains a fire hydrant.\n",
        "- Display each image with its predicted label.\n"
      ],
      "metadata": {
        "id": "UakltCgMDXVW"
      }
    },
    {
      "cell_type": "code",
      "source": [
        "## Enter your code here.."
      ],
      "metadata": {
        "id": "l9MpLZTXECRY"
      },
      "execution_count": 2,
      "outputs": []
    },
    {
      "cell_type": "markdown",
      "source": [
        "---"
      ],
      "metadata": {
        "id": "nY68Zn9OEWVY"
      }
    },
    {
      "cell_type": "markdown",
      "source": [
        "### 8) Final Thoughts\n",
        "❓ How would you improve the model in the future?\n",
        "\n",
        "✅ Your answer here..\n"
      ],
      "metadata": {
        "id": "Zp6zfAfP6b4U"
      }
    },
    {
      "cell_type": "markdown",
      "source": [
        "-----"
      ],
      "metadata": {
        "id": "1Ey8xW2D6lR9"
      }
    },
    {
      "cell_type": "markdown",
      "source": [
        "## Final Question:\n",
        "### ❓ Did you use AI in completing your assignment. If yes, what AI tool you use and how did you prompt it and how you validate the response.\n",
        "\n",
        "✅ Your answer here..\n"
      ],
      "metadata": {
        "id": "_Jn3fsmQj97D"
      }
    },
    {
      "cell_type": "markdown",
      "source": [
        "---"
      ],
      "metadata": {
        "id": "l8IF1HLREaja"
      }
    },
    {
      "cell_type": "markdown",
      "source": [
        "## Submission\n",
        "Submit your `.ipynb` notebook on Brightspace using the following name format:  \n",
        "`SYSC4415W25_A2_FIRSTNAME_LASTNAME_StudentID.ipynb`\n",
        "\n"
      ],
      "metadata": {
        "id": "YIMUz6vvj94K"
      }
    },
    {
      "cell_type": "code",
      "execution_count": null,
      "metadata": {
        "id": "7Lew5EKNjScc"
      },
      "outputs": [],
      "source": []
    }
  ]
}